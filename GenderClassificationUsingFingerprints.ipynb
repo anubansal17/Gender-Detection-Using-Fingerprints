{
 "cells": [
  {
   "cell_type": "code",
   "execution_count": 1,
   "metadata": {},
   "outputs": [
    {
     "name": "stderr",
     "output_type": "stream",
     "text": [
      "/home/anubansal17/anaconda3/lib/python3.6/site-packages/h5py/__init__.py:36: FutureWarning: Conversion of the second argument of issubdtype from `float` to `np.floating` is deprecated. In future, it will be treated as `np.float64 == np.dtype(float).type`.\n",
      "  from ._conv import register_converters as _register_converters\n",
      "Using TensorFlow backend.\n"
     ]
    }
   ],
   "source": [
    "from keras.models import Sequential\n",
    "from keras.layers import Convolution2D\n",
    "from keras.layers import MaxPooling2D\n",
    "from keras.layers import Flatten\n",
    "from keras.layers import Dense"
   ]
  },
  {
   "cell_type": "code",
   "execution_count": 2,
   "metadata": {},
   "outputs": [],
   "source": [
    "#Initialising the CNN\n",
    "classifier = Sequential()"
   ]
  },
  {
   "cell_type": "code",
   "execution_count": 3,
   "metadata": {},
   "outputs": [
    {
     "name": "stderr",
     "output_type": "stream",
     "text": [
      "/home/anubansal17/anaconda3/lib/python3.6/site-packages/ipykernel_launcher.py:3: UserWarning: Update your `Conv2D` call to the Keras 2 API: `Conv2D(32, (3, 3), input_shape=(64, 64, 3..., activation=\"relu\")`\n",
      "  This is separate from the ipykernel package so we can avoid doing imports until\n"
     ]
    }
   ],
   "source": [
    "#Adding the different CNN layers\n",
    "#Step1-Convolution\n",
    "classifier.add(Convolution2D(32, 3, 3, input_shape =(64, 64, 3), activation = 'relu'))\n",
    "# 32 number of filters and each filter is a 3*3 matrix\n",
    "# Relu fxn is used to ensure non-linearity"
   ]
  },
  {
   "cell_type": "code",
   "execution_count": 4,
   "metadata": {},
   "outputs": [],
   "source": [
    "#Step2-Max Pooling(Size of resulting matrix after applying max pooling is (Size of feature map)/2\n",
    "classifier.add(MaxPooling2D(pool_size = (2,2)))\n",
    "# We use pooling to reduce the size of feature maps ultimately reducing the no. of nodes in input layer"
   ]
  },
  {
   "cell_type": "code",
   "execution_count": 5,
   "metadata": {},
   "outputs": [],
   "source": [
    "#Step3-Flattening\n",
    "classifier.add(Flatten())"
   ]
  },
  {
   "cell_type": "code",
   "execution_count": 6,
   "metadata": {},
   "outputs": [
    {
     "name": "stderr",
     "output_type": "stream",
     "text": [
      "/home/anubansal17/anaconda3/lib/python3.6/site-packages/ipykernel_launcher.py:2: UserWarning: Update your `Dense` call to the Keras 2 API: `Dense(activation=\"relu\", units=128)`\n",
      "  \n",
      "/home/anubansal17/anaconda3/lib/python3.6/site-packages/ipykernel_launcher.py:3: UserWarning: Update your `Dense` call to the Keras 2 API: `Dense(activation=\"sigmoid\", units=1)`\n",
      "  This is separate from the ipykernel package so we can avoid doing imports until\n"
     ]
    }
   ],
   "source": [
    "#Step4-Full Connection\n",
    "classifier.add(Dense(output_dim = 128, activation = 'relu'))\n",
    "classifier.add(Dense(output_dim = 1, activation = 'sigmoid'))"
   ]
  },
  {
   "cell_type": "code",
   "execution_count": 7,
   "metadata": {},
   "outputs": [],
   "source": [
    "#Compiling the CNN\n",
    "classifier.compile(optimizer = 'adam', loss = 'binary_crossentropy', metrics = ['accuracy'])"
   ]
  },
  {
   "cell_type": "code",
   "execution_count": 8,
   "metadata": {},
   "outputs": [
    {
     "name": "stdout",
     "output_type": "stream",
     "text": [
      "Found 3200 images belonging to 2 classes.\n",
      "Found 800 images belonging to 2 classes.\n"
     ]
    },
    {
     "name": "stderr",
     "output_type": "stream",
     "text": [
      "/home/anubansal17/anaconda3/lib/python3.6/site-packages/ipykernel_launcher.py:29: UserWarning: The semantics of the Keras 2 argument `steps_per_epoch` is not the same as the Keras 1 argument `samples_per_epoch`. `steps_per_epoch` is the number of batches to draw from the generator at each epoch. Basically steps_per_epoch = samples_per_epoch/batch_size. Similarly `nb_val_samples`->`validation_steps` and `val_samples`->`steps` arguments have changed. Update your method calls accordingly.\n",
      "/home/anubansal17/anaconda3/lib/python3.6/site-packages/ipykernel_launcher.py:29: UserWarning: Update your `fit_generator` call to the Keras 2 API: `fit_generator(<keras_pre..., steps_per_epoch=3200, epochs=25, validation_data=<keras_pre..., validation_steps=800)`\n"
     ]
    },
    {
     "name": "stdout",
     "output_type": "stream",
     "text": [
      "Epoch 1/25\n",
      "3200/3200 [==============================] - 783s 245ms/step - loss: 0.6682 - acc: 0.5798 - val_loss: 0.6823 - val_acc: 0.5913\n",
      "Epoch 2/25\n",
      "3200/3200 [==============================] - 672s 210ms/step - loss: 0.5860 - acc: 0.6681 - val_loss: 0.9063 - val_acc: 0.5625\n",
      "Epoch 3/25\n",
      "3200/3200 [==============================] - 978s 306ms/step - loss: 0.4535 - acc: 0.7735 - val_loss: 1.0597 - val_acc: 0.6000\n",
      "Epoch 4/25\n",
      "3200/3200 [==============================] - 714s 223ms/step - loss: 0.3163 - acc: 0.8585 - val_loss: 1.3731 - val_acc: 0.6088\n",
      "Epoch 5/25\n",
      "3200/3200 [==============================] - 709s 222ms/step - loss: 0.2238 - acc: 0.9080 - val_loss: 1.7373 - val_acc: 0.5925\n",
      "Epoch 6/25\n",
      "3200/3200 [==============================] - 717s 224ms/step - loss: 0.1597 - acc: 0.9384 - val_loss: 1.9362 - val_acc: 0.5887\n",
      "Epoch 7/25\n",
      "3200/3200 [==============================] - 699s 218ms/step - loss: 0.1194 - acc: 0.9555 - val_loss: 2.3081 - val_acc: 0.5938\n",
      "Epoch 8/25\n",
      "3200/3200 [==============================] - 687s 215ms/step - loss: 0.0973 - acc: 0.9654 - val_loss: 2.4143 - val_acc: 0.6012\n",
      "Epoch 9/25\n",
      "3200/3200 [==============================] - 677s 212ms/step - loss: 0.0828 - acc: 0.9700 - val_loss: 2.8710 - val_acc: 0.6088\n",
      "Epoch 10/25\n",
      "3200/3200 [==============================] - 4330s 1s/step - loss: 0.0736 - acc: 0.9742 - val_loss: 2.7152 - val_acc: 0.5925\n",
      "Epoch 11/25\n",
      "3200/3200 [==============================] - 704s 220ms/step - loss: 0.0645 - acc: 0.9779 - val_loss: 2.7478 - val_acc: 0.6038\n",
      "Epoch 12/25\n",
      "3200/3200 [==============================] - 670s 209ms/step - loss: 0.0597 - acc: 0.9798 - val_loss: 2.9901 - val_acc: 0.6125\n",
      "Epoch 13/25\n",
      "3200/3200 [==============================] - 653s 204ms/step - loss: 0.0520 - acc: 0.9821 - val_loss: 3.1294 - val_acc: 0.6088\n",
      "Epoch 14/25\n",
      "3200/3200 [==============================] - 672s 210ms/step - loss: 0.0498 - acc: 0.9831 - val_loss: 3.1136 - val_acc: 0.5837\n",
      "Epoch 15/25\n",
      "3200/3200 [==============================] - 647s 202ms/step - loss: 0.0466 - acc: 0.9846 - val_loss: 3.3173 - val_acc: 0.6075\n",
      "Epoch 16/25\n",
      "3200/3200 [==============================] - 15902s 5s/step - loss: 0.0430 - acc: 0.9854 - val_loss: 3.1735 - val_acc: 0.5925\n",
      "Epoch 17/25\n",
      "3200/3200 [==============================] - 748s 234ms/step - loss: 0.0427 - acc: 0.9864 - val_loss: 3.3745 - val_acc: 0.5775\n",
      "Epoch 18/25\n",
      "3200/3200 [==============================] - 734s 229ms/step - loss: 0.0388 - acc: 0.9874 - val_loss: 3.3791 - val_acc: 0.6038\n",
      "Epoch 19/25\n",
      "3200/3200 [==============================] - 710s 222ms/step - loss: 0.0355 - acc: 0.9882 - val_loss: 3.3672 - val_acc: 0.6038\n",
      "Epoch 20/25\n",
      "3200/3200 [==============================] - 689s 215ms/step - loss: 0.0348 - acc: 0.9884 - val_loss: 3.4169 - val_acc: 0.5787\n",
      "Epoch 21/25\n",
      "3200/3200 [==============================] - 47575s 15s/step - loss: 0.0355 - acc: 0.9887 - val_loss: 3.3518 - val_acc: 0.5938\n",
      "Epoch 22/25\n",
      "3200/3200 [==============================] - 764s 239ms/step - loss: 0.0336 - acc: 0.9892 - val_loss: 3.3567 - val_acc: 0.5975\n",
      "Epoch 23/25\n",
      "3200/3200 [==============================] - 771s 241ms/step - loss: 0.0312 - acc: 0.9901 - val_loss: 3.6331 - val_acc: 0.5988\n",
      "Epoch 24/25\n",
      "3200/3200 [==============================] - 751s 235ms/step - loss: 0.0321 - acc: 0.9895 - val_loss: 3.5429 - val_acc: 0.5863\n",
      "Epoch 25/25\n",
      "3200/3200 [==============================] - 6949s 2s/step - loss: 0.0274 - acc: 0.9911 - val_loss: 3.8949 - val_acc: 0.5825\n"
     ]
    },
    {
     "data": {
      "text/plain": [
       "<keras.callbacks.History at 0x7ff4ef0f3fd0>"
      ]
     },
     "execution_count": 8,
     "metadata": {},
     "output_type": "execute_result"
    }
   ],
   "source": [
    "#fitting the CNN to images\n",
    "#Before fitting the CNN, we'll use image augmentation to prevent overfitting\n",
    "from keras.preprocessing.image import ImageDataGenerator\n",
    "\n",
    "train_datagen = ImageDataGenerator(\n",
    "        rescale=1./255,\n",
    "        shear_range=0.2,\n",
    "        zoom_range=0.2,\n",
    "        horizontal_flip=True)\n",
    "\n",
    "test_datagen = ImageDataGenerator(rescale=1./255)\n",
    "\n",
    "training_set = train_datagen.flow_from_directory(   'dataset/training_set',\n",
    "                                                    target_size=(64, 64),\n",
    "                                                    batch_size=32,\n",
    "                                                    class_mode='binary')\n",
    "        \n",
    "\n",
    "test_set = test_datagen.flow_from_directory(\n",
    "                                                    'dataset/test_set',\n",
    "                                                    target_size=(64, 64),\n",
    "                                                    batch_size=32,\n",
    "                                                    class_mode='binary')\n",
    "\n",
    "classifier.fit_generator(training_set,\n",
    "                    steps_per_epoch=3200,\n",
    "                    epochs=25,\n",
    "                    validation_data=test_set,\n",
    "                    nb_val_samples=800)"
   ]
  },
  {
   "cell_type": "code",
   "execution_count": null,
   "metadata": {},
   "outputs": [],
   "source": [
    "# Covered upto 5th step"
   ]
  }
 ],
 "metadata": {
  "kernelspec": {
   "display_name": "Python 3",
   "language": "python",
   "name": "python3"
  },
  "language_info": {
   "codemirror_mode": {
    "name": "ipython",
    "version": 3
   },
   "file_extension": ".py",
   "mimetype": "text/x-python",
   "name": "python",
   "nbconvert_exporter": "python",
   "pygments_lexer": "ipython3",
   "version": "3.6.5"
  }
 },
 "nbformat": 4,
 "nbformat_minor": 2
}
